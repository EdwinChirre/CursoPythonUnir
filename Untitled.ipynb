{
 "cells": [
  {
   "cell_type": "code",
   "execution_count": 2,
   "id": "0073950a",
   "metadata": {},
   "outputs": [],
   "source": [
    "frase = \"Hola, Python!\""
   ]
  },
  {
   "cell_type": "code",
   "execution_count": 3,
   "id": "c386991a",
   "metadata": {},
   "outputs": [
    {
     "data": {
      "text/plain": [
       "'Python'"
      ]
     },
     "execution_count": 3,
     "metadata": {},
     "output_type": "execute_result"
    }
   ],
   "source": [
    "frase[-7:12]"
   ]
  },
  {
   "cell_type": "code",
   "execution_count": 4,
   "id": "a36b28e0",
   "metadata": {},
   "outputs": [
    {
     "data": {
      "text/plain": [
       "'Hola, Python!'"
      ]
     },
     "execution_count": 4,
     "metadata": {},
     "output_type": "execute_result"
    }
   ],
   "source": [
    "frase.replace(\"Adiós\", \"Buenos días\")"
   ]
  },
  {
   "cell_type": "code",
   "execution_count": 5,
   "id": "69bb2924",
   "metadata": {},
   "outputs": [
    {
     "data": {
      "text/plain": [
       "True"
      ]
     },
     "execution_count": 5,
     "metadata": {},
     "output_type": "execute_result"
    }
   ],
   "source": [
    "len(\"Hola\") <= frase.find(',')"
   ]
  },
  {
   "cell_type": "code",
   "execution_count": 6,
   "id": "70fb8c19",
   "metadata": {},
   "outputs": [
    {
     "data": {
      "text/plain": [
       "True"
      ]
     },
     "execution_count": 6,
     "metadata": {},
     "output_type": "execute_result"
    }
   ],
   "source": [
    "bool(0) or not(bool())"
   ]
  },
  {
   "cell_type": "code",
   "execution_count": 7,
   "id": "be8e7025",
   "metadata": {},
   "outputs": [
    {
     "data": {
      "text/plain": [
       "False"
      ]
     },
     "execution_count": 7,
     "metadata": {},
     "output_type": "execute_result"
    }
   ],
   "source": [
    "bool(0)"
   ]
  },
  {
   "cell_type": "code",
   "execution_count": 8,
   "id": "6e71fe5a",
   "metadata": {},
   "outputs": [
    {
     "data": {
      "text/plain": [
       "False"
      ]
     },
     "execution_count": 8,
     "metadata": {},
     "output_type": "execute_result"
    }
   ],
   "source": [
    "bool()"
   ]
  },
  {
   "cell_type": "code",
   "execution_count": 9,
   "id": "a46d6a1c",
   "metadata": {},
   "outputs": [
    {
     "data": {
      "text/plain": [
       "'None'"
      ]
     },
     "execution_count": 9,
     "metadata": {},
     "output_type": "execute_result"
    }
   ],
   "source": [
    "str(None)"
   ]
  },
  {
   "cell_type": "code",
   "execution_count": 10,
   "id": "e6c4033a",
   "metadata": {},
   "outputs": [
    {
     "ename": "SyntaxError",
     "evalue": "invalid syntax (2540322598.py, line 1)",
     "output_type": "error",
     "traceback": [
      "\u001b[1;36m  Input \u001b[1;32mIn [10]\u001b[1;36m\u001b[0m\n\u001b[1;33m    str(5i)\u001b[0m\n\u001b[1;37m         ^\u001b[0m\n\u001b[1;31mSyntaxError\u001b[0m\u001b[1;31m:\u001b[0m invalid syntax\n"
     ]
    }
   ],
   "source": [
    "str(5i)"
   ]
  },
  {
   "cell_type": "code",
   "execution_count": 1,
   "id": "607151fd",
   "metadata": {},
   "outputs": [
    {
     "data": {
      "text/plain": [
       "False"
      ]
     },
     "execution_count": 1,
     "metadata": {},
     "output_type": "execute_result"
    }
   ],
   "source": [
    "bool()"
   ]
  },
  {
   "cell_type": "code",
   "execution_count": 2,
   "id": "26b9462f",
   "metadata": {},
   "outputs": [
    {
     "data": {
      "text/plain": [
       "False"
      ]
     },
     "execution_count": 2,
     "metadata": {},
     "output_type": "execute_result"
    }
   ],
   "source": [
    "bool(0)"
   ]
  },
  {
   "cell_type": "code",
   "execution_count": 3,
   "id": "60ff2e14",
   "metadata": {},
   "outputs": [
    {
     "data": {
      "text/plain": [
       "True"
      ]
     },
     "execution_count": 3,
     "metadata": {},
     "output_type": "execute_result"
    }
   ],
   "source": [
    "bool(2)"
   ]
  },
  {
   "cell_type": "code",
   "execution_count": 4,
   "id": "5da3b547",
   "metadata": {},
   "outputs": [
    {
     "data": {
      "text/plain": [
       "False"
      ]
     },
     "execution_count": 4,
     "metadata": {},
     "output_type": "execute_result"
    }
   ],
   "source": [
    "bool(None)"
   ]
  },
  {
   "cell_type": "code",
   "execution_count": 5,
   "id": "d1469cdf",
   "metadata": {},
   "outputs": [
    {
     "name": "stdout",
     "output_type": "stream",
     "text": [
      "H\n",
      "l\n",
      " \n",
      "u\n",
      "d\n"
     ]
    }
   ],
   "source": [
    "cadena = 'Hola mundo'\n",
    "# Comenzamos en 0, hasta la longitud de la cadena y con paso = 2\n",
    "for i in range(0, len(cadena), 2):\n",
    "    print(cadena[i])"
   ]
  },
  {
   "cell_type": "code",
   "execution_count": 8,
   "id": "633ca8fc",
   "metadata": {},
   "outputs": [
    {
     "name": "stdout",
     "output_type": "stream",
     "text": [
      "0\n",
      "1\n",
      "2\n",
      "3\n",
      "4\n",
      "Rompemos el bucle!\n"
     ]
    }
   ],
   "source": [
    "numeros = list(range(10))\n",
    "for n in numeros:\n",
    "    if (n == 5):\n",
    "        print('Rompemos el bucle!')\n",
    "        break\n",
    "    print(n)"
   ]
  },
  {
   "cell_type": "code",
   "execution_count": 9,
   "id": "53d01747",
   "metadata": {},
   "outputs": [],
   "source": [
    "users = {'Hans': 'active', 'Éléonore': 'inactive', '景太郎': 'active'}\n",
    "\n",
    "# Strategy:  Iterate over a copy\n",
    "for user, status in users.copy().items():\n",
    "    if status == 'inactive':\n",
    "        del users[user]"
   ]
  },
  {
   "cell_type": "code",
   "execution_count": 11,
   "id": "56e39590",
   "metadata": {},
   "outputs": [
    {
     "data": {
      "text/plain": [
       "{'Hans': 'active', '景太郎': 'active'}"
      ]
     },
     "execution_count": 11,
     "metadata": {},
     "output_type": "execute_result"
    }
   ],
   "source": [
    "users"
   ]
  },
  {
   "cell_type": "code",
   "execution_count": 12,
   "id": "cc2aa625",
   "metadata": {},
   "outputs": [],
   "source": [
    "# Strategy:  Create a new collection\n",
    "active_users = {}\n",
    "for user, status in users.items():\n",
    "    if status == 'active':\n",
    "        active_users[user] = status"
   ]
  },
  {
   "cell_type": "code",
   "execution_count": 13,
   "id": "35f20bc6",
   "metadata": {},
   "outputs": [
    {
     "data": {
      "text/plain": [
       "{'Hans': 'active', '景太郎': 'active'}"
      ]
     },
     "execution_count": 13,
     "metadata": {},
     "output_type": "execute_result"
    }
   ],
   "source": [
    "active_users"
   ]
  },
  {
   "cell_type": "code",
   "execution_count": 14,
   "id": "36856aee",
   "metadata": {},
   "outputs": [
    {
     "name": "stdout",
     "output_type": "stream",
     "text": [
      "1\n",
      "2\n",
      "3\n",
      "4\n",
      "5\n",
      "6\n",
      "7\n",
      "8\n"
     ]
    }
   ],
   "source": [
    "for i in range(1,9):\n",
    "    print(i)"
   ]
  },
  {
   "cell_type": "code",
   "execution_count": 17,
   "id": "becd43c4",
   "metadata": {},
   "outputs": [
    {
     "name": "stdout",
     "output_type": "stream",
     "text": [
      "1\n",
      "2\n",
      "4\n",
      "5\n",
      "7\n",
      "8\n"
     ]
    }
   ],
   "source": [
    "for i in range (1,10):\n",
    "    if (i % 3 != 0):\n",
    "        print (i)\n",
    "    else:\n",
    "        continue"
   ]
  },
  {
   "cell_type": "code",
   "execution_count": 19,
   "id": "76594b7e",
   "metadata": {},
   "outputs": [
    {
     "name": "stdout",
     "output_type": "stream",
     "text": [
      "0\n",
      "2\n",
      "4\n",
      "6\n",
      "8\n",
      "10\n",
      "12\n",
      "14\n",
      "16\n",
      "18\n"
     ]
    }
   ],
   "source": [
    "for num in range(0, 20, 2):\n",
    "    print(num)"
   ]
  },
  {
   "cell_type": "code",
   "execution_count": 25,
   "id": "632734a6",
   "metadata": {},
   "outputs": [
    {
     "ename": "TypeError",
     "evalue": "'int' object is not iterable",
     "output_type": "error",
     "traceback": [
      "\u001b[1;31m---------------------------------------------------------------------------\u001b[0m",
      "\u001b[1;31mTypeError\u001b[0m                                 Traceback (most recent call last)",
      "Input \u001b[1;32mIn [25]\u001b[0m, in \u001b[0;36m<cell line: 2>\u001b[1;34m()\u001b[0m\n\u001b[0;32m      1\u001b[0m lista \u001b[38;5;241m=\u001b[39m \u001b[38;5;241m10\u001b[39m\n\u001b[1;32m----> 2\u001b[0m iterador \u001b[38;5;241m=\u001b[39m \u001b[38;5;28;43miter\u001b[39;49m\u001b[43m(\u001b[49m\u001b[43mlista\u001b[49m\u001b[43m)\u001b[49m\n\u001b[0;32m      3\u001b[0m \u001b[38;5;28mnext\u001b[39m(iterador) \u001b[38;5;241m*\u001b[39m \u001b[38;5;241m10\u001b[39m\n",
      "\u001b[1;31mTypeError\u001b[0m: 'int' object is not iterable"
     ]
    }
   ],
   "source": [
    "lista = 10\n",
    "iterador = iter(lista)\n",
    "next(iterador) * 10\n"
   ]
  },
  {
   "cell_type": "code",
   "execution_count": 22,
   "id": "caacf7ac",
   "metadata": {},
   "outputs": [
    {
     "data": {
      "text/plain": [
       "50"
      ]
     },
     "execution_count": 22,
     "metadata": {},
     "output_type": "execute_result"
    }
   ],
   "source": [
    "next(iterador) * 10"
   ]
  },
  {
   "cell_type": "code",
   "execution_count": 23,
   "id": "f7e1999e",
   "metadata": {},
   "outputs": [
    {
     "data": {
      "text/plain": [
       "70"
      ]
     },
     "execution_count": 23,
     "metadata": {},
     "output_type": "execute_result"
    }
   ],
   "source": [
    "next(iterador) * 10"
   ]
  },
  {
   "cell_type": "markdown",
   "id": "3e272657",
   "metadata": {},
   "source": [
    "## Tema 4"
   ]
  },
  {
   "cell_type": "code",
   "execution_count": 28,
   "id": "c32089a6",
   "metadata": {},
   "outputs": [],
   "source": [
    "def imprime_valores(**args):\n",
    "    for argumento in args:\n",
    "        print(argumento, '=>', args[argumento])"
   ]
  },
  {
   "cell_type": "code",
   "execution_count": 29,
   "id": "7c4f3ece",
   "metadata": {},
   "outputs": [
    {
     "name": "stdout",
     "output_type": "stream",
     "text": [
      "arg1 => Hola\n",
      "arg2 => [2, 3, 4]\n",
      "arg3 => 876.98\n"
     ]
    }
   ],
   "source": [
    "imprime_valores(arg1='Hola', arg2=[2,3,4], arg3=876.98)"
   ]
  },
  {
   "cell_type": "code",
   "execution_count": 30,
   "id": "a08651b1",
   "metadata": {},
   "outputs": [],
   "source": [
    "def imprime_numeros(*args):\n",
    "    for numero in args:\n",
    "        print(numero)"
   ]
  },
  {
   "cell_type": "code",
   "execution_count": 31,
   "id": "d9a89f8e",
   "metadata": {},
   "outputs": [
    {
     "name": "stdout",
     "output_type": "stream",
     "text": [
      "1\n",
      "7\n",
      "89\n",
      "46\n",
      "9394\n"
     ]
    }
   ],
   "source": [
    "imprime_numeros(1, 7, 89, 46, 9394)"
   ]
  },
  {
   "cell_type": "code",
   "execution_count": 32,
   "id": "828cdad6",
   "metadata": {},
   "outputs": [],
   "source": [
    "## Tema 5"
   ]
  },
  {
   "cell_type": "code",
   "execution_count": 37,
   "id": "bf221feb",
   "metadata": {},
   "outputs": [],
   "source": [
    "class ClasePadre:\n",
    "    def imprimir(self):\n",
    "        print('Hola, soy la clase padre')"
   ]
  },
  {
   "cell_type": "code",
   "execution_count": 38,
   "id": "d9d58b56",
   "metadata": {},
   "outputs": [],
   "source": [
    "class ClaseHija(ClasePadre):\n",
    "    def imprimir(self):\n",
    "        print('Hola, soy la clase hija')"
   ]
  },
  {
   "cell_type": "code",
   "execution_count": 46,
   "id": "3e0e806d",
   "metadata": {},
   "outputs": [],
   "source": [
    "objeto = ClaseHija()"
   ]
  },
  {
   "cell_type": "code",
   "execution_count": 47,
   "id": "cf18ff6e",
   "metadata": {},
   "outputs": [
    {
     "data": {
      "text/plain": [
       "<__main__.ClaseHija at 0x23c3e8a2d90>"
      ]
     },
     "execution_count": 47,
     "metadata": {},
     "output_type": "execute_result"
    }
   ],
   "source": [
    "objeto"
   ]
  },
  {
   "cell_type": "code",
   "execution_count": 42,
   "id": "bdbdeb76",
   "metadata": {},
   "outputs": [
    {
     "data": {
      "text/plain": [
       "<__main__.ClaseHija at 0x23c3e8a2b80>"
      ]
     },
     "execution_count": 42,
     "metadata": {},
     "output_type": "execute_result"
    }
   ],
   "source": [
    "ClaseHija()"
   ]
  },
  {
   "cell_type": "code",
   "execution_count": 43,
   "id": "3edd8269",
   "metadata": {},
   "outputs": [
    {
     "data": {
      "text/plain": [
       "__main__.ClasePadre"
      ]
     },
     "execution_count": 43,
     "metadata": {},
     "output_type": "execute_result"
    }
   ],
   "source": [
    "ClasePadre"
   ]
  },
  {
   "cell_type": "code",
   "execution_count": 1,
   "id": "5e881ff7",
   "metadata": {},
   "outputs": [],
   "source": [
    "## Tema 6"
   ]
  },
  {
   "cell_type": "code",
   "execution_count": 2,
   "id": "dce3786c",
   "metadata": {},
   "outputs": [],
   "source": [
    "import re"
   ]
  },
  {
   "cell_type": "code",
   "execution_count": 3,
   "id": "277f7375",
   "metadata": {},
   "outputs": [
    {
     "data": {
      "text/plain": [
       "'Buenos días me gusta estudiar Python'"
      ]
     },
     "execution_count": 3,
     "metadata": {},
     "output_type": "execute_result"
    }
   ],
   "source": [
    "mensaje = 'Hola, me gusta estudiar Python'\n",
    "re.sub('\\w{4},', 'Buenos días', mensaje)"
   ]
  },
  {
   "cell_type": "code",
   "execution_count": 4,
   "id": "aa2c5c19",
   "metadata": {},
   "outputs": [
    {
     "name": "stdout",
     "output_type": "stream",
     "text": [
      "['10', '12', '2', '2', '4', '128']\n"
     ]
    }
   ],
   "source": [
    "string = 'Hoy hemos comido 10 adultos un menú de 12 euros y 2 niños 2 bocadillos de 4 euros. En total pagamos 128 euros.'\n",
    "result = re.findall('\\d+', string)\n",
    "print(result)"
   ]
  },
  {
   "cell_type": "code",
   "execution_count": 6,
   "id": "28cf76ec",
   "metadata": {},
   "outputs": [
    {
     "name": "stdout",
     "output_type": "stream",
     "text": [
      "Error 2\n"
     ]
    }
   ],
   "source": [
    "try:\n",
    "    'Hola' + 5\n",
    "except ValueError:\n",
    "    print('Error 1')\n",
    "except TypeError:\n",
    "    print('Error 2')\n",
    "except:\n",
    "    print('Error3')"
   ]
  },
  {
   "cell_type": "code",
   "execution_count": 7,
   "id": "46f8e2a0",
   "metadata": {},
   "outputs": [
    {
     "data": {
      "text/plain": [
       "[0.5, 1.0, 1.5]"
      ]
     },
     "execution_count": 7,
     "metadata": {},
     "output_type": "execute_result"
    }
   ],
   "source": [
    "lista = list(range(1,10))\n",
    "[x / 2 for x in lista if x * 4 < 15]"
   ]
  },
  {
   "cell_type": "code",
   "execution_count": null,
   "id": "4d39682b",
   "metadata": {},
   "outputs": [],
   "source": []
  }
 ],
 "metadata": {
  "kernelspec": {
   "display_name": "Python 3 (ipykernel)",
   "language": "python",
   "name": "python3"
  },
  "language_info": {
   "codemirror_mode": {
    "name": "ipython",
    "version": 3
   },
   "file_extension": ".py",
   "mimetype": "text/x-python",
   "name": "python",
   "nbconvert_exporter": "python",
   "pygments_lexer": "ipython3",
   "version": "3.8.3"
  }
 },
 "nbformat": 4,
 "nbformat_minor": 5
}
