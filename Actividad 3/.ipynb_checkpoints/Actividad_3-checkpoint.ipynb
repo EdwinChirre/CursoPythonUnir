{
 "cells": [
  {
   "cell_type": "markdown",
   "metadata": {},
   "source": [
    "En la siguiente celda, completa los siguientes ejercicios:\n",
    "\n",
    "## Ejercicio 1\n",
    "\n",
    "Escribe una clase llamada Numero. Esta clase debe tener una constructora que reciba un número y almacene ese número en 2 atributos: romano que almacenará el número en el formato de número romanos como una cadena de caracteres y normal que guardará el número que nos han dado en la constructora.\n",
    "\n",
    "## Ejercicio 2\n",
    "\n",
    "Crea dos nuevos métodos en la clase Numero. El primer método, llamado imprime(), imprime un mensaje mostrando el valor de ambos atributos; el segundo método, llamado suma_romano(), tendrá como parámetros una cadena de caracteres que representará otro número romano y que sumaremos a los atributos que ya teníamos.\n",
    "\n",
    "**NOTA:** si necesita convertir el número romano a número normal para realizar las operaciones implemente un nuevo método.\n",
    "\n",
    "## Ejercicio 3\n",
    "\n",
    "Define una función llamada is_romano() dentro de la clase Numero que a partir de una cadena de caracteres, devuelve True si esa cadena de caracteres corresponde con un número romano y falso en caso contrario. Después, modifica el método para que lance un error en el caso de que el valor que nos pasan por parámetro no se corresponde con el patrón de un número romano."
   ]
  },
  {
   "cell_type": "code",
   "execution_count": null,
   "metadata": {},
   "outputs": [],
   "source": [
    "import re\n",
    "class Numero:\n",
    "    def __init__(self,numero):\n",
    "        self.normal = numero\n",
    "        self.romano = self.numero_to_romano(numero)\n",
    "\n",
    "    def numero_to_romano(self,num):\n",
    "        val = [1000, 900, 500, 400,100, 90, 50, 40,10, 9, 5, 4,1]\n",
    "        syb = [\"M\", \"CM\", \"D\", \"CD\",\"C\", \"XC\", \"L\", \"XL\",\"X\", \"IX\", \"V\", \"IV\",\"I\"]\n",
    "        roman_num = ''\n",
    "        i = 0\n",
    "        while  num > 0:\n",
    "            for _ in range(num // val[i]):\n",
    "                roman_num += syb[i]\n",
    "                num -= val[i]\n",
    "            i += 1\n",
    "        return roman_num\n",
    "    \n",
    "    def romano_to_numero(self,s):\n",
    "        roman = {'I':1,'V':5,'X':10,'L':50,'C':100,'D':500,'M':1000,'IV':4,'IX':9,'XL':40,'XC':90,'CD':400,'CM':900}\n",
    "        i = 0\n",
    "        num = 0\n",
    "        while i < len(s):\n",
    "            if i+1<len(s) and s[i:i+2] in roman:\n",
    "                num+=roman[s[i:i+2]]\n",
    "                i+=2\n",
    "            else:\n",
    "                num+=roman[s[i]]\n",
    "                i+=1\n",
    "        return num\n",
    "    \n",
    "    def imprime(self):\n",
    "        print(self.normal,self.romano)\n",
    "        \n",
    "    def suma_romano(self,num_romano):\n",
    "        try:\n",
    "            num_a_sumar = self.romano_to_numero(num_romano)\n",
    "            self.normal = num_a_sumar + self.normal\n",
    "            self.romano =  self.numero_to_romano(self.normal)\n",
    "            return self.romano\n",
    "        except:\n",
    "            print(\"Ha fallado el número\", num_romano)\n",
    "    \n",
    "    def is_romano(self,roman_number):\n",
    "        regex = re.compile(\"^M{0,4}(C[MD]|D?C{0,3})(X[CL]|L?X{0,3})(I[XV]|V?I{0,3})$\")\n",
    "        if regex.match(roman_number):\n",
    "            return True\n",
    "        else:\n",
    "            return False"
   ]
  },
  {
   "cell_type": "markdown",
   "metadata": {},
   "source": [
    "En la siguiente celda, completa los siguientes ejercicios:\n",
    "\n",
    "## Ejercicio 4\n",
    "\n",
    "Implementa una clase llamada MejorNumero. Esta clase heredará las propiedades de Numero e incluirá dos métodos nuevos, llamados resta() y multiplica(), para restar y multiplicar los atributos recibiendo por parámetro otro número romano. \n",
    "\n",
    "\n",
    "## Ejercicio 5\n",
    "\n",
    "En la clase MejorNumero, crea un nuevo método llamado iterar() que reciba una lista con 3 números romanos. A continuación, iterando sobre los elementos de la lista llamará a la función suma_romano(). Los posibles errores se tendrán que gestionar con excepciones (try...except...) para mostrar un mensaje y seguir ejecutando el siguiente número.\n",
    "\n",
    "**NOTA:** el mensaje de error ha de seguir el siguiente formato --> print('Ha fallado el número', 5). "
   ]
  },
  {
   "cell_type": "code",
   "execution_count": null,
   "metadata": {},
   "outputs": [],
   "source": [
    "class MejorNumero(Numero):\n",
    "    def __init__(self,numero):\n",
    "        Numero.__init__(self,numero)\n",
    "    \n",
    "    def resta(self,num_romano):\n",
    "        num_a_restar = self.romano_to_numero(num_romano)\n",
    "        self.normal = self.normal - num_a_restar\n",
    "        self.romano =  self.numero_to_romano(self.normal)\n",
    "        return self.romano\n",
    "    \n",
    "    def multiplica(self,num_romano):\n",
    "        num_a_multiplicar = self.romano_to_numero(num_romano)\n",
    "        self.normal = self.normal * num_a_multiplicar\n",
    "        self.romano =  self.numero_to_romano(self.normal)\n",
    "        return self.romano\n",
    "    \n",
    "    def iterar(self,lista_romana):\n",
    "        for x in lista_romana:\n",
    "            self.suma_romano(x)"
   ]
  }
 ],
 "metadata": {
  "kernelspec": {
   "display_name": "Python 3 (ipykernel)",
   "language": "python",
   "name": "python3"
  },
  "language_info": {
   "codemirror_mode": {
    "name": "ipython",
    "version": 3
   },
   "file_extension": ".py",
   "mimetype": "text/x-python",
   "name": "python",
   "nbconvert_exporter": "python",
   "pygments_lexer": "ipython3",
   "version": "3.8.3"
  }
 },
 "nbformat": 4,
 "nbformat_minor": 2
}
